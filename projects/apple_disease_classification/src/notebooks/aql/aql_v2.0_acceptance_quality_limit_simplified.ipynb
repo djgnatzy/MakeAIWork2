{
 "cells": [
  {
   "cell_type": "markdown",
   "metadata": {},
   "source": [
    "<h3><strong>Cleane versie van AQL</strong></h3>"
   ]
  },
  {
   "cell_type": "markdown",
   "metadata": {},
   "source": [
    "Percentages per label toegevoegd (om mogelijk uit te laten lezen voor chatbot)."
   ]
  },
  {
   "cell_type": "markdown",
   "metadata": {},
   "source": [
    "<strong>To do</strong>: import vanuit model voor \"sampleBatch\" en export (Klasse, aantallen per label, percentages) voor chatbot"
   ]
  },
  {
   "cell_type": "code",
   "execution_count": 2,
   "metadata": {},
   "outputs": [
    {
     "name": "stdout",
     "output_type": "stream",
     "text": [
      "The batch has been qualified as: Class 3\n",
      "\n",
      "The total batch of 80 apples consists of:\n",
      "Healthy apples:   73    (91.25%)\n",
      "Blotched apples:   1    (1.25%)\n",
      "Rotten apples:     1    (1.25%)\n",
      "Scabbed apples:    4    (5.0%)\n",
      "\n",
      "The total rejected percentage is: 7.5 %, which is a total amount of 6 apples.\n"
     ]
    }
   ],
   "source": [
    "sampleBatch = [\n",
    "               \"h\",\"h\",\"h\",\"h\",\"h\",\"h\",\"\",\"h\",\"h\",\"h\",\"h\",\"h\",\"h\",\"h\",\"h\",\"h\",\"h\",\"h\",\"h\",\"h\", \n",
    "               \"h\",\"h\",\"h\",\"h\",\"h\",\"h\",\"h\",\"h\",\"h\",\"h\",\"s\",\"h\",\"h\",\"h\",\"h\",\"r\",\"h\",\"h\",\"h\",\"h\",\n",
    "               \"h\",\"s\",\"h\",\"h\",\"h\",\"s\",\"h\",\"h\",\"h\",\"h\",\"h\",\"h\",\"h\",\"h\",\"h\",\"h\",\"h\",\"h\",\"h\",\"h\",\n",
    "               \"h\",\"h\",\"h\",\"h\",\"h\",\"h\",\"h\",\"h\",\"h\",\"h\",\"h\",\"h\",\"b\",\"s\",\"h\",\"h\",\"h\",\"h\",\"h\",\"h\",\n",
    "              ]\n",
    "    \n",
    "appleScore = sampleBatch.count(\"h\")\n",
    "blotchApple = sampleBatch.count(\"b\")\n",
    "rotApple = sampleBatch.count(\"r\")\n",
    "scabApple = sampleBatch.count(\"s\") \n",
    "rejectedApple = blotchApple + rotApple + scabApple\n",
    "\n",
    "healthyPercentage = float(appleScore / len(sampleBatch) * 100)\n",
    "blotchPercentage = float(blotchApple / len(sampleBatch) * 100)\n",
    "rotPercentage = float(rotApple / len(sampleBatch) * 100)\n",
    "scabPercentage = float(scabApple / len(sampleBatch) * 100)\n",
    "rejectedPercentage = blotchPercentage + rotPercentage + scabPercentage\n",
    "\n",
    "def aqlTestScore(): \n",
    "        \n",
    "    for apple in sampleBatch:\n",
    "       \n",
    "        if appleScore >=79:                                          \n",
    "            print (f'The batch has been qualified as: Class 1\\n')\n",
    "        elif appleScore >=75:\n",
    "            print (f'The batch has been qualified as: Class 2\\n')\n",
    "        elif appleScore >=73:\n",
    "            print (f'The batch has been qualified as: Class 3\\n')\n",
    "        else:\n",
    "            print (f'The batch has been rejected\\n')\n",
    "            \n",
    "            # return class    \n",
    "                \n",
    "        print (f'The total batch of {len(sampleBatch)} apples consists of:\\n'\n",
    "        f'Healthy apples:   {appleScore}    ({healthyPercentage}%)\\n'\n",
    "        f'Blotched apples:   {blotchApple}    ({blotchPercentage}%)\\n'\n",
    "        f'Rotten apples:     {rotApple}    ({rotPercentage}%)\\n'\n",
    "        f'Scabbed apples:    {scabApple}    ({scabPercentage}%)\\n')    \n",
    "        \n",
    "        print('The total rejected percentage is:',rejectedPercentage,'%,' \n",
    "              ' which is a total amount of', rejectedApple, 'apples.')\n",
    "        break    \n",
    "\n",
    "aqlTestScore()\n"
   ]
  },
  {
   "cell_type": "code",
   "execution_count": 1,
   "metadata": {},
   "outputs": [
    {
     "ename": "NameError",
     "evalue": "name 'appleScore' is not defined",
     "output_type": "error",
     "traceback": [
      "\u001b[1;31m---------------------------------------------------------------------------\u001b[0m",
      "\u001b[1;31mNameError\u001b[0m                                 Traceback (most recent call last)",
      "Cell \u001b[1;32mIn [1], line 8\u001b[0m\n\u001b[0;32m      5\u001b[0m \u001b[39m# Creating dataset\u001b[39;00m\n\u001b[0;32m      6\u001b[0m appleLabels \u001b[39m=\u001b[39m [\u001b[39m'\u001b[39m\u001b[39mHEALTHY\u001b[39m\u001b[39m'\u001b[39m, \u001b[39m'\u001b[39m\u001b[39mBLOTCHED\u001b[39m\u001b[39m'\u001b[39m, \u001b[39m'\u001b[39m\u001b[39mROTTEN\u001b[39m\u001b[39m'\u001b[39m, \u001b[39m'\u001b[39m\u001b[39mSCABBED\u001b[39m\u001b[39m'\u001b[39m]\n\u001b[1;32m----> 8\u001b[0m data \u001b[39m=\u001b[39m [appleScore, blotchApple, rotApple, scabApple]\n\u001b[0;32m     10\u001b[0m \u001b[39m# Creating explode data\u001b[39;00m\n\u001b[0;32m     11\u001b[0m explode \u001b[39m=\u001b[39m (\u001b[39m0.0\u001b[39m, \u001b[39m0.0\u001b[39m, \u001b[39m0.0\u001b[39m, \u001b[39m0.0\u001b[39m) \u001b[39m# not necessary\u001b[39;00m\n",
      "\u001b[1;31mNameError\u001b[0m: name 'appleScore' is not defined"
     ]
    }
   ],
   "source": [
    "from matplotlib import pyplot as plt\n",
    "import numpy as np\n",
    " \n",
    "\n",
    "# Creating dataset\n",
    "appleLabels = ['HEALTHY', 'BLOTCHED', 'ROTTEN', 'SCABBED']\n",
    " \n",
    "data = [appleScore, blotchApple, rotApple, scabApple]\n",
    "\n",
    "# Creating explode data\n",
    "explode = (0.0, 0.0, 0.0, 0.0) # not necessary\n",
    "\n",
    "# Creating color parameters\n",
    "colors = ( \"#1FA191\", \"#FACDB9\", \"#543F35\", \"#BF9D8E\")\n",
    "\n",
    "# Wedge properties\n",
    "wp = { 'linewidth' : 0.5, 'edgecolor' : \"white\" }\n",
    "\n",
    "# Creating autocpt arguments\n",
    "def func(pct, allvalues):\n",
    "\tabsolute = int(pct / 100.*np.sum(allvalues))\n",
    "\treturn \"{:.1f}%\\n\".format(pct, absolute)\n",
    "\n",
    "# Creating plot\n",
    "fig, ax = plt.subplots(figsize =(10, 7))\n",
    "wedges, texts, autotexts = ax.pie(data,\n",
    "\t\t\t\t\t\t\t\tautopct = lambda pct: func(pct, data),\n",
    "\t\t\t\t\t\t\t\texplode = explode,\n",
    "\t\t\t\t\t\t\t\tlabels = appleLabels,\n",
    "\t\t\t\t\t\t\t\tshadow = False,\n",
    "\t\t\t\t\t\t\t\tcolors = colors,\n",
    "\t\t\t\t\t\t\t\tstartangle = 15,\n",
    "\t\t\t\t\t\t\t\twedgeprops = wp,\n",
    "\t\t\t\t\t\t\t\ttextprops = dict(color =\"#115C53\"))\n",
    "\n",
    "# Adding legend\n",
    "ax.legend(wedges,\n",
    "        appleLabels,\n",
    "\t\ttitle =\"Apples\",\n",
    "\t\tloc =\"upper left\",\n",
    "\t\tbbox_to_anchor =(1, 0, 0.5, 1)\n",
    "        )\n",
    "\n",
    "plt.setp(autotexts, size = 8, weight =\"bold\")\n",
    "ax.set_title(\"Customizing the APPLE pie chart\") # add Classification as title\n",
    "\n",
    "# show plot\n",
    "plt.show()"
   ]
  }
 ],
 "metadata": {
  "kernelspec": {
   "display_name": "Python 3.10.7 ('env': venv)",
   "language": "python",
   "name": "python3"
  },
  "language_info": {
   "codemirror_mode": {
    "name": "ipython",
    "version": 3
   },
   "file_extension": ".py",
   "mimetype": "text/x-python",
   "name": "python",
   "nbconvert_exporter": "python",
   "pygments_lexer": "ipython3",
   "version": "3.10.7"
  },
  "orig_nbformat": 4,
  "vscode": {
   "interpreter": {
    "hash": "3806e804db5aa4a4c842d8541c0221916f65eb25aef94211593b7aec60c2bed4"
   }
  }
 },
 "nbformat": 4,
 "nbformat_minor": 2
}
