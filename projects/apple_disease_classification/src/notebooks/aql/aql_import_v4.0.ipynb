{
 "cells": [
  {
   "cell_type": "code",
   "execution_count": 2,
   "metadata": {},
   "outputs": [],
   "source": [
    "import numpy as np\n",
    "from numpy import expand_dims\n",
    "\n",
    "import tensorflow as tf"
   ]
  },
  {
   "cell_type": "code",
   "execution_count": 3,
   "metadata": {},
   "outputs": [],
   "source": [
    "trainedModel = tf.keras.models.load_model(\n",
    "    '../../models/34', \n",
    "    custom_objects=None, \n",
    "    compile=True, \n",
    "    options=None\n",
    ")"
   ]
  },
  {
   "cell_type": "code",
   "execution_count": 4,
   "metadata": {},
   "outputs": [
    {
     "name": "stdout",
     "output_type": "stream",
     "text": [
      "Model: \"sequential_11\"\n",
      "_________________________________________________________________\n",
      " Layer (type)                Output Shape              Param #   \n",
      "=================================================================\n",
      " sequential_9 (Sequential)   (None, 200, 200, 3)       0         \n",
      "                                                                 \n",
      " sequential_10 (Sequential)  (None, 200, 200, 3)       0         \n",
      "                                                                 \n",
      " conv2d_18 (Conv2D)          (None, 198, 198, 32)      896       \n",
      "                                                                 \n",
      " batch_normalization_18 (Bat  (None, 198, 198, 32)     128       \n",
      " chNormalization)                                                \n",
      "                                                                 \n",
      " max_pooling2d_18 (MaxPoolin  (None, 99, 99, 32)       0         \n",
      " g2D)                                                            \n",
      "                                                                 \n",
      " conv2d_19 (Conv2D)          (None, 97, 97, 64)        18496     \n",
      "                                                                 \n",
      " batch_normalization_19 (Bat  (None, 97, 97, 64)       256       \n",
      " chNormalization)                                                \n",
      "                                                                 \n",
      " max_pooling2d_19 (MaxPoolin  (None, 48, 48, 64)       0         \n",
      " g2D)                                                            \n",
      "                                                                 \n",
      " conv2d_20 (Conv2D)          (None, 46, 46, 64)        36928     \n",
      "                                                                 \n",
      " batch_normalization_20 (Bat  (None, 46, 46, 64)       256       \n",
      " chNormalization)                                                \n",
      "                                                                 \n",
      " max_pooling2d_20 (MaxPoolin  (None, 23, 23, 64)       0         \n",
      " g2D)                                                            \n",
      "                                                                 \n",
      " conv2d_21 (Conv2D)          (None, 21, 21, 128)       73856     \n",
      "                                                                 \n",
      " batch_normalization_21 (Bat  (None, 21, 21, 128)      512       \n",
      " chNormalization)                                                \n",
      "                                                                 \n",
      " max_pooling2d_21 (MaxPoolin  (None, 10, 10, 128)      0         \n",
      " g2D)                                                            \n",
      "                                                                 \n",
      " conv2d_22 (Conv2D)          (None, 8, 8, 128)         147584    \n",
      "                                                                 \n",
      " batch_normalization_22 (Bat  (None, 8, 8, 128)        512       \n",
      " chNormalization)                                                \n",
      "                                                                 \n",
      " max_pooling2d_22 (MaxPoolin  (None, 4, 4, 128)        0         \n",
      " g2D)                                                            \n",
      "                                                                 \n",
      " conv2d_23 (Conv2D)          (None, 2, 2, 256)         295168    \n",
      "                                                                 \n",
      " batch_normalization_23 (Bat  (None, 2, 2, 256)        1024      \n",
      " chNormalization)                                                \n",
      "                                                                 \n",
      " max_pooling2d_23 (MaxPoolin  (None, 1, 1, 256)        0         \n",
      " g2D)                                                            \n",
      "                                                                 \n",
      " flatten_3 (Flatten)         (None, 256)               0         \n",
      "                                                                 \n",
      " dense_6 (Dense)             (None, 64)                16448     \n",
      "                                                                 \n",
      " dense_7 (Dense)             (None, 4)                 260       \n",
      "                                                                 \n",
      "=================================================================\n",
      "Total params: 592,324\n",
      "Trainable params: 590,980\n",
      "Non-trainable params: 1,344\n",
      "_________________________________________________________________\n"
     ]
    }
   ],
   "source": [
    "trainedModel.summary()"
   ]
  },
  {
   "cell_type": "code",
   "execution_count": 9,
   "metadata": {},
   "outputs": [],
   "source": [
    "IMAGE_SIZE = 200\n",
    "BATCH_SIZE = 80"
   ]
  },
  {
   "cell_type": "code",
   "execution_count": 10,
   "metadata": {},
   "outputs": [
    {
     "name": "stdout",
     "output_type": "stream",
     "text": [
      "Found 615 files belonging to 7 classes.\n",
      "<BatchDataset element_spec=(TensorSpec(shape=(None, 200, 200, 3), dtype=tf.float32, name=None), TensorSpec(shape=(None,), dtype=tf.int32, name=None))>\n"
     ]
    }
   ],
   "source": [
    "aql_dataset = tf.keras.utils.image_dataset_from_directory(\n",
    "      \"../../data\",\n",
    "      shuffle=True,\n",
    "      image_size=(IMAGE_SIZE, IMAGE_SIZE),\n",
    "      batch_size = BATCH_SIZE,\n",
    "      # labels=None\n",
    "      )\n",
    "\n",
    "print(aql_dataset)"
   ]
  },
  {
   "cell_type": "code",
   "execution_count": null,
   "metadata": {},
   "outputs": [],
   "source": [
    "# len(aql_dataset)"
   ]
  },
  {
   "cell_type": "code",
   "execution_count": 11,
   "metadata": {},
   "outputs": [],
   "source": [
    "aql_ds = aql_dataset.take(2)\n",
    "# len(aql_ds)"
   ]
  },
  {
   "cell_type": "code",
   "execution_count": 12,
   "metadata": {},
   "outputs": [
    {
     "name": "stdout",
     "output_type": "stream",
     "text": [
      "[2 2 3 2 0 3 0 2 0 3 3 3 3 2 1 3 2 2 2 1 0 3 2 2 0 3 2 2 2 2 2 2 0 2 2 3 0\n",
      " 0 0 0 2 2 0 0 3 2 1 3 0 0 0 0 2 1 3 2 0 2 2 0 2 1 1 2 2 0 2 3 1 0 0 0 0 2\n",
      " 3 1 2 2 0 2]\n",
      "{0: 24, 1: 8, 2: 33, 3: 15}\n"
     ]
    }
   ],
   "source": [
    "for element in aql_ds.as_numpy_iterator(): \n",
    "    X, y = element\n",
    "    yhat = trainedModel.predict(X)\n",
    "    prediction = (np.argmax(yhat, axis=-1))\n",
    "    # pre.update_state(y, yhat)\n",
    "    # re.update_state(y, yhat)\n",
    "    # acc.update_state(y, yhat)\n",
    "    unique2, counts2 = np.unique(y, return_counts=True)\n",
    "    dict(zip(unique2, counts2))\n",
    "    # print (yhat)\n",
    "    # print (y)\n",
    "\n",
    "print (prediction)\n",
    "\n",
    "unique2, counts2 = np.unique(prediction, return_counts=True)\n",
    "statistics = dict(zip(unique2, counts2))\n",
    "\n",
    "sampleBatch = (len(prediction))\n",
    "\n",
    "print (statistics)"
   ]
  },
  {
   "cell_type": "code",
   "execution_count": 13,
   "metadata": {},
   "outputs": [
    {
     "name": "stdout",
     "output_type": "stream",
     "text": [
      "{0: 24, 1: 8, 2: 33, 3: 15}\n"
     ]
    }
   ],
   "source": [
    "# statistics = dict(zip(unique2, counts2))\n",
    "print (statistics)"
   ]
  },
  {
   "cell_type": "code",
   "execution_count": 14,
   "metadata": {},
   "outputs": [
    {
     "name": "stdout",
     "output_type": "stream",
     "text": [
      "The batch has been qualified as: Rejected\n",
      "\n",
      "The total batch of 80 apples consists of:\n",
      "Healthy apples:    8    (10%)\n",
      "Blotched apples:   24    (30%)\n",
      "Rotten apples:     33    (41%)\n",
      "Scabbed apples:    15    (19%)\n",
      "\n",
      "The total rejected percentage is 90%, which is a total amount of 72 apples.\n"
     ]
    }
   ],
   "source": [
    "blotchApple = statistics[0]    \n",
    "appleScore = statistics[1]\n",
    "rotApple = statistics[2]\n",
    "scabApple = statistics[3] \n",
    "rejectedApple = int(blotchApple) + int(rotApple) + int(scabApple)\n",
    "\n",
    "healthyPercentage = round(appleScore / (sampleBatch) * 100)\n",
    "blotchPercentage = round(blotchApple / (sampleBatch) * 100)\n",
    "rotPercentage = round(rotApple / (sampleBatch) * 100)\n",
    "scabPercentage = round(scabApple / (sampleBatch) * 100)\n",
    "rejectedPercentage = round(blotchPercentage + rotPercentage + scabPercentage)\n",
    "\n",
    "def aqlTestScore(): \n",
    "    \n",
    "    if sampleBatch != 80:\n",
    "    \n",
    "        print (\"A batch of exactly 80 apples is required for a correct quality control\")\n",
    "        \n",
    "    else:    \n",
    "       \n",
    "        if appleScore >=79:                                          \n",
    "            status = 'Class 1'\n",
    "        elif appleScore >=75:\n",
    "            status = 'Class 2'\n",
    "        elif appleScore >=73:\n",
    "            status = 'Class 3'\n",
    "        else:\n",
    "            status = 'Rejected'\n",
    "         \n",
    "        print(f'The batch has been qualified as: {status}\\n')\n",
    "                \n",
    "        print (f'The total batch of {sampleBatch} apples consists of:\\n'\n",
    "        f'Healthy apples:    {appleScore}    ({healthyPercentage}%)\\n'\n",
    "        f'Blotched apples:   {blotchApple}    ({blotchPercentage}%)\\n'\n",
    "        f'Rotten apples:     {rotApple}    ({rotPercentage}%)\\n'\n",
    "        f'Scabbed apples:    {scabApple}    ({scabPercentage}%)\\n')    \n",
    "        \n",
    "        print(f'The total rejected percentage is {rejectedPercentage}%, which is a total amount of', rejectedApple, 'apples.')\n",
    "        # break    \n",
    "\n",
    "aqlTestScore()\n"
   ]
  }
 ],
 "metadata": {
  "kernelspec": {
   "display_name": "Python 3.10.7 ('env': venv)",
   "language": "python",
   "name": "python3"
  },
  "language_info": {
   "codemirror_mode": {
    "name": "ipython",
    "version": 3
   },
   "file_extension": ".py",
   "mimetype": "text/x-python",
   "name": "python",
   "nbconvert_exporter": "python",
   "pygments_lexer": "ipython3",
   "version": "3.10.7"
  },
  "orig_nbformat": 4,
  "vscode": {
   "interpreter": {
    "hash": "3806e804db5aa4a4c842d8541c0221916f65eb25aef94211593b7aec60c2bed4"
   }
  }
 },
 "nbformat": 4,
 "nbformat_minor": 2
}
