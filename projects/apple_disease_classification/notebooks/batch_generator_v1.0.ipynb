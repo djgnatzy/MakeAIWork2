{
 "cells": [
  {
   "cell_type": "code",
   "execution_count": 3,
   "metadata": {},
   "outputs": [
    {
     "name": "stdout",
     "output_type": "stream",
     "text": [
      "Files are copied successfully\n"
     ]
    }
   ],
   "source": [
    "# importing the modules\n",
    "import os\n",
    "import shutil\n",
    "import random\n",
    "\n",
    "# Providing the folder path\n",
    "origin = 'C:/MakeAIWork2/projects/apple_disease_classification/data/AQL_Data_in_Use/'\n",
    "target = 'C:/MakeAIWork2/projects/apple_disease_classification/src/data/batch_02/'\n",
    "\n",
    "# Fetching the list of all the files\n",
    "files = os.listdir(origin)\n",
    "\n",
    "# Fetching all the files to directory\n",
    "for file_name in random.sample(files, 80):\n",
    "   shutil.copy(origin+file_name, target+file_name)\n",
    "print(\"Files are copied successfully\")"
   ]
  }
 ],
 "metadata": {
  "kernelspec": {
   "display_name": "Python 3.10.7 ('env': venv)",
   "language": "python",
   "name": "python3"
  },
  "language_info": {
   "codemirror_mode": {
    "name": "ipython",
    "version": 3
   },
   "file_extension": ".py",
   "mimetype": "text/x-python",
   "name": "python",
   "nbconvert_exporter": "python",
   "pygments_lexer": "ipython3",
   "version": "3.10.7"
  },
  "orig_nbformat": 4,
  "vscode": {
   "interpreter": {
    "hash": "3806e804db5aa4a4c842d8541c0221916f65eb25aef94211593b7aec60c2bed4"
   }
  }
 },
 "nbformat": 4,
 "nbformat_minor": 2
}
