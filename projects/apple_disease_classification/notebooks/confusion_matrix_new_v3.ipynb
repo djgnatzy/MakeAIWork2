{
 "cells": [
  {
   "cell_type": "code",
   "execution_count": 1,
   "metadata": {},
   "outputs": [],
   "source": [
    "from sklearn.metrics import confusion_matrix\n",
    "from sklearn.metrics import ConfusionMatrixDisplay\n",
    "\n",
    "import tensorflow as tf\n",
    "\n",
    "import matplotlib.pyplot as plt"
   ]
  },
  {
   "cell_type": "code",
   "execution_count": 2,
   "metadata": {},
   "outputs": [],
   "source": [
    "full_model = tf.keras.models.load_model(\n",
    "    '../models/17', \n",
    "    custom_objects=None, \n",
    "    compile=True, \n",
    "    options=None\n",
    ")\n",
    "\n",
    "img_height = 224\n",
    "img_width = 224\n",
    "batch_size = 32"
   ]
  },
  {
   "cell_type": "code",
   "execution_count": 3,
   "metadata": {},
   "outputs": [],
   "source": [
    "def confusion_matrix(model, \n",
    "                    img_height, \n",
    "                    img_width, \n",
    "                    test_data_dir = 'C:/MakeAIWork2/projects/apple_disease_classification/data/Test'\n",
    "                    ):\n",
    "\n",
    "    test_ds = tf.keras.utils.image_dataset_from_directory(\n",
    "      test_data_dir,\n",
    "      shuffle=False,\n",
    "      image_size=(img_height, img_width),\n",
    "      batch_size = batch_size\n",
    "      )\n",
    "\n",
    "    test_label = test_ds.class_names\n",
    "\n",
    "    print(test_label)\n",
    "\n",
    "  \n",
    "\n",
    "    batchPredictions = model.predict(test_ds)\n",
    "\n",
    "    predicted_categories = tf.argmax(batchPredictions, axis=1)\n",
    "\n",
    "    true_categories = tf.concat([y for x, y in test_ds], axis=0)\n",
    "\n",
    "    result_confusion_matrix = confusion_matrix(true_categories, predicted_categories)\n",
    "\n",
    "    cm_display = ConfusionMatrixDisplay(confusion_matrix = result_confusion_matrix, display_labels = ['Blotch', 'Normal', 'Rot', 'Scab'])\n",
    "    \n",
    "    cm_display.plot()\n",
    "    plt.show()\n",
    "    \n",
    " "
   ]
  },
  {
   "cell_type": "code",
   "execution_count": 4,
   "metadata": {},
   "outputs": [
    {
     "name": "stdout",
     "output_type": "stream",
     "text": [
      "Found 120 files belonging to 4 classes.\n",
      "['Blotch_Apple', 'Normal_Apple', 'Rot_Apple', 'Scab_Apple']\n"
     ]
    },
    {
     "ename": "TypeError",
     "evalue": "confusion_matrix() missing 1 required positional argument: 'img_width'",
     "output_type": "error",
     "traceback": [
      "\u001b[1;31m---------------------------------------------------------------------------\u001b[0m",
      "\u001b[1;31mTypeError\u001b[0m                                 Traceback (most recent call last)",
      "Cell \u001b[1;32mIn [4], line 1\u001b[0m\n\u001b[1;32m----> 1\u001b[0m confusion_matrix(full_model, \u001b[39m224\u001b[39;49m, \u001b[39m224\u001b[39;49m)\n",
      "Cell \u001b[1;32mIn [3], line 26\u001b[0m, in \u001b[0;36mconfusion_matrix\u001b[1;34m(model, img_height, img_width, test_data_dir)\u001b[0m\n\u001b[0;32m     22\u001b[0m predicted_categories \u001b[39m=\u001b[39m tf\u001b[39m.\u001b[39margmax(batchPredictions, axis\u001b[39m=\u001b[39m\u001b[39m1\u001b[39m)\n\u001b[0;32m     24\u001b[0m true_categories \u001b[39m=\u001b[39m tf\u001b[39m.\u001b[39mconcat([y \u001b[39mfor\u001b[39;00m x, y \u001b[39min\u001b[39;00m test_ds], axis\u001b[39m=\u001b[39m\u001b[39m0\u001b[39m)\n\u001b[1;32m---> 26\u001b[0m result_confusion_matrix \u001b[39m=\u001b[39m confusion_matrix(true_categories, predicted_categories)\n\u001b[0;32m     28\u001b[0m cm_display \u001b[39m=\u001b[39m ConfusionMatrixDisplay(confusion_matrix \u001b[39m=\u001b[39m result_confusion_matrix, display_labels \u001b[39m=\u001b[39m [\u001b[39m'\u001b[39m\u001b[39mBlotch\u001b[39m\u001b[39m'\u001b[39m, \u001b[39m'\u001b[39m\u001b[39mNormal\u001b[39m\u001b[39m'\u001b[39m, \u001b[39m'\u001b[39m\u001b[39mRot\u001b[39m\u001b[39m'\u001b[39m, \u001b[39m'\u001b[39m\u001b[39mScab\u001b[39m\u001b[39m'\u001b[39m])\n\u001b[0;32m     30\u001b[0m cm_display\u001b[39m.\u001b[39mplot()\n",
      "\u001b[1;31mTypeError\u001b[0m: confusion_matrix() missing 1 required positional argument: 'img_width'"
     ]
    }
   ],
   "source": [
    "confusion_matrix(full_model, 224, 224)"
   ]
  },
  {
   "cell_type": "code",
   "execution_count": null,
   "metadata": {},
   "outputs": [],
   "source": []
  }
 ],
 "metadata": {
  "kernelspec": {
   "display_name": "Python 3.10.7 ('env': venv)",
   "language": "python",
   "name": "python3"
  },
  "language_info": {
   "codemirror_mode": {
    "name": "ipython",
    "version": 3
   },
   "file_extension": ".py",
   "mimetype": "text/x-python",
   "name": "python",
   "nbconvert_exporter": "python",
   "pygments_lexer": "ipython3",
   "version": "3.10.7"
  },
  "orig_nbformat": 4,
  "vscode": {
   "interpreter": {
    "hash": "3806e804db5aa4a4c842d8541c0221916f65eb25aef94211593b7aec60c2bed4"
   }
  }
 },
 "nbformat": 4,
 "nbformat_minor": 2
}
