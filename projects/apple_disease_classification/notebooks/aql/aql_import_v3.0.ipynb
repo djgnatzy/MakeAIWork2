{
 "cells": [
  {
   "cell_type": "code",
   "execution_count": 1,
   "metadata": {},
   "outputs": [],
   "source": [
    "import numpy as np\n",
    "from numpy import expand_dims\n",
    "\n",
    "# from sklearn.metrics import classification_report\n",
    "# from sklearn.metrics import confusion_matrix\n",
    "# from sklearn.metrics import ConfusionMatrixDisplay\n",
    "\n",
    "import tensorflow as tf\n",
    "from tensorflow.keras.models import load_model\n",
    "# from tensorflow.keras.utils import load_img\n",
    "\n",
    "import random"
   ]
  },
  {
   "cell_type": "code",
   "execution_count": 2,
   "metadata": {},
   "outputs": [],
   "source": [
    "trainedModel = tf.keras.models.load_model(\n",
    "    'C:\\MakeAIWork2/projects/apple_disease_classification/models/17', \n",
    "    custom_objects=None, \n",
    "    compile=True, \n",
    "    options=None\n",
    ")"
   ]
  },
  {
   "cell_type": "code",
   "execution_count": 3,
   "metadata": {},
   "outputs": [
    {
     "name": "stdout",
     "output_type": "stream",
     "text": [
      "Model: \"sequential_2\"\n",
      "_________________________________________________________________\n",
      " Layer (type)                Output Shape              Param #   \n",
      "=================================================================\n",
      " sequential (Sequential)     (None, 224, 224, 3)       0         \n",
      "                                                                 \n",
      " sequential_1 (Sequential)   (None, 224, 224, 3)       0         \n",
      "                                                                 \n",
      " conv2d (Conv2D)             (None, 222, 222, 32)      896       \n",
      "                                                                 \n",
      " batch_normalization_1 (Batc  (None, 222, 222, 32)     128       \n",
      " hNormalization)                                                 \n",
      "                                                                 \n",
      " max_pooling2d (MaxPooling2D  (None, 111, 111, 32)     0         \n",
      " )                                                               \n",
      "                                                                 \n",
      " dropout (Dropout)           (None, 111, 111, 32)      0         \n",
      "                                                                 \n",
      " conv2d_1 (Conv2D)           (None, 111, 111, 64)      18496     \n",
      "                                                                 \n",
      " batch_normalization_2 (Batc  (None, 111, 111, 64)     256       \n",
      " hNormalization)                                                 \n",
      "                                                                 \n",
      " max_pooling2d_1 (MaxPooling  (None, 55, 55, 64)       0         \n",
      " 2D)                                                             \n",
      "                                                                 \n",
      " conv2d_2 (Conv2D)           (None, 55, 55, 64)        36928     \n",
      "                                                                 \n",
      " batch_normalization_3 (Batc  (None, 55, 55, 64)       256       \n",
      " hNormalization)                                                 \n",
      "                                                                 \n",
      " max_pooling2d_2 (MaxPooling  (None, 27, 27, 64)       0         \n",
      " 2D)                                                             \n",
      "                                                                 \n",
      " dropout_1 (Dropout)         (None, 27, 27, 64)        0         \n",
      "                                                                 \n",
      " conv2d_3 (Conv2D)           (None, 27, 27, 128)       73856     \n",
      "                                                                 \n",
      " batch_normalization_4 (Batc  (None, 27, 27, 128)      512       \n",
      " hNormalization)                                                 \n",
      "                                                                 \n",
      " max_pooling2d_3 (MaxPooling  (None, 13, 13, 128)      0         \n",
      " 2D)                                                             \n",
      "                                                                 \n",
      " conv2d_4 (Conv2D)           (None, 13, 13, 128)       147584    \n",
      "                                                                 \n",
      " batch_normalization_5 (Batc  (None, 13, 13, 128)      512       \n",
      " hNormalization)                                                 \n",
      "                                                                 \n",
      " max_pooling2d_4 (MaxPooling  (None, 6, 6, 128)        0         \n",
      " 2D)                                                             \n",
      "                                                                 \n",
      " dropout_2 (Dropout)         (None, 6, 6, 128)         0         \n",
      "                                                                 \n",
      " conv2d_5 (Conv2D)           (None, 6, 6, 256)         295168    \n",
      "                                                                 \n",
      " batch_normalization_6 (Batc  (None, 6, 6, 256)        1024      \n",
      " hNormalization)                                                 \n",
      "                                                                 \n",
      " max_pooling2d_5 (MaxPooling  (None, 3, 3, 256)        0         \n",
      " 2D)                                                             \n",
      "                                                                 \n",
      " flatten (Flatten)           (None, 2304)              0         \n",
      "                                                                 \n",
      " dense (Dense)               (None, 64)                147520    \n",
      "                                                                 \n",
      " dense_1 (Dense)             (None, 4)                 260       \n",
      "                                                                 \n",
      "=================================================================\n",
      "Total params: 723,396\n",
      "Trainable params: 722,052\n",
      "Non-trainable params: 1,344\n",
      "_________________________________________________________________\n"
     ]
    }
   ],
   "source": [
    "trainedModel.summary()"
   ]
  },
  {
   "cell_type": "code",
   "execution_count": 4,
   "metadata": {},
   "outputs": [],
   "source": [
    "IMAGE_SIZE = 224\n",
    "BATCH_SIZE = 80"
   ]
  },
  {
   "cell_type": "code",
   "execution_count": 7,
   "metadata": {},
   "outputs": [
    {
     "name": "stdout",
     "output_type": "stream",
     "text": [
      "Found 400 files belonging to 6 classes.\n"
     ]
    }
   ],
   "source": [
    "aql_dataset = tf.keras.utils.image_dataset_from_directory(\n",
    "      \"../../src/data\",\n",
    "      shuffle=True,\n",
    "      image_size=(IMAGE_SIZE, IMAGE_SIZE),\n",
    "      batch_size = BATCH_SIZE \n",
    "      )\n",
    "\n",
    "# print(aql_dataset)"
   ]
  },
  {
   "cell_type": "code",
   "execution_count": 8,
   "metadata": {},
   "outputs": [
    {
     "data": {
      "text/plain": [
       "5"
      ]
     },
     "execution_count": 8,
     "metadata": {},
     "output_type": "execute_result"
    }
   ],
   "source": [
    "len(aql_dataset)"
   ]
  },
  {
   "cell_type": "markdown",
   "metadata": {},
   "source": [
    "!Random 80 afbeeldingen selecteren"
   ]
  },
  {
   "cell_type": "code",
   "execution_count": 10,
   "metadata": {},
   "outputs": [
    {
     "ename": "TypeError",
     "evalue": "Population must be a sequence.  For dicts or sets, use sorted(d).",
     "output_type": "error",
     "traceback": [
      "\u001b[1;31m---------------------------------------------------------------------------\u001b[0m",
      "\u001b[1;31mTypeError\u001b[0m                                 Traceback (most recent call last)",
      "Cell \u001b[1;32mIn [10], line 3\u001b[0m\n\u001b[0;32m      1\u001b[0m aql_ds \u001b[39m=\u001b[39m aql_dataset\u001b[39m.\u001b[39mtake(\u001b[39m1\u001b[39m)\n\u001b[0;32m      2\u001b[0m aql_ds \u001b[39m=\u001b[39m \u001b[39mlist\u001b[39m(aql_ds)\n\u001b[1;32m----> 3\u001b[0m aql_ds \u001b[39m=\u001b[39m random\u001b[39m.\u001b[39;49msample(aql_dataset, \u001b[39m80\u001b[39;49m)\n",
      "File \u001b[1;32m~\\AppData\\Local\\Programs\\Python\\Python310\\lib\\random.py:466\u001b[0m, in \u001b[0;36mRandom.sample\u001b[1;34m(self, population, k, counts)\u001b[0m\n\u001b[0;32m    464\u001b[0m         population \u001b[39m=\u001b[39m \u001b[39mtuple\u001b[39m(population)\n\u001b[0;32m    465\u001b[0m     \u001b[39melse\u001b[39;00m:\n\u001b[1;32m--> 466\u001b[0m         \u001b[39mraise\u001b[39;00m \u001b[39mTypeError\u001b[39;00m(\u001b[39m\"\u001b[39m\u001b[39mPopulation must be a sequence.  For dicts or sets, use sorted(d).\u001b[39m\u001b[39m\"\u001b[39m)\n\u001b[0;32m    467\u001b[0m n \u001b[39m=\u001b[39m \u001b[39mlen\u001b[39m(population)\n\u001b[0;32m    468\u001b[0m \u001b[39mif\u001b[39;00m counts \u001b[39mis\u001b[39;00m \u001b[39mnot\u001b[39;00m \u001b[39mNone\u001b[39;00m:\n",
      "\u001b[1;31mTypeError\u001b[0m: Population must be a sequence.  For dicts or sets, use sorted(d)."
     ]
    }
   ],
   "source": [
    "aql_ds = aql_dataset.take(1)\n",
    "aql_ds = list(aql_ds)\n",
    "aql_ds = random.sample(aql_dataset, 80)\n",
    "# len(aql_ds)"
   ]
  },
  {
   "cell_type": "code",
   "execution_count": null,
   "metadata": {},
   "outputs": [],
   "source": [
    "for element in aql_ds.as_numpy_iterator(): \n",
    "    X, y = element\n",
    "    yhat = trainedModel.predict(X)\n",
    "    prediction = (np.argmax(yhat, axis=-1))\n",
    "    # pre.update_state(y, yhat)\n",
    "    # re.update_state(y, yhat)\n",
    "    # acc.update_state(y, yhat)\n",
    "    unique2, counts2 = np.unique(y, return_counts=True)\n",
    "    dict(zip(unique2, counts2))\n",
    "    # print (yhat)\n",
    "    # print (y)\n",
    "\n",
    "print (prediction)\n",
    "\n",
    "unique2, counts2 = np.unique(prediction, return_counts=True)\n",
    "dict(zip(unique2, counts2))\n",
    "\n",
    "sampleBatch = (len(prediction))"
   ]
  },
  {
   "cell_type": "code",
   "execution_count": null,
   "metadata": {},
   "outputs": [],
   "source": [
    "statistics = dict(zip(unique2, counts2))\n",
    "print (statistics)"
   ]
  },
  {
   "cell_type": "code",
   "execution_count": null,
   "metadata": {},
   "outputs": [],
   "source": [
    "blotchApple = statistics[0]    \n",
    "appleScore = statistics[1]\n",
    "rotApple = statistics[2]\n",
    "scabApple = statistics[3] \n",
    "rejectedApple = int(blotchApple) + int(rotApple) + int(scabApple)\n",
    "\n",
    "healthyPercentage = float(appleScore / (sampleBatch) * 100)\n",
    "blotchPercentage = float(blotchApple / (sampleBatch) * 100)\n",
    "rotPercentage = float(rotApple / (sampleBatch) * 100)\n",
    "scabPercentage = float(scabApple / (sampleBatch) * 100)\n",
    "rejectedPercentage = float(blotchPercentage + rotPercentage + scabPercentage)\n",
    "\n",
    "def aqlTestScore(): \n",
    "    \n",
    "    if sampleBatch != 80:\n",
    "    \n",
    "        print (\"A batch of exactly 80 apples is required for a correct quality control\")\n",
    "        \n",
    "    else:    \n",
    "       \n",
    "        if appleScore >=79:                                          \n",
    "            print (f'The batch has been qualified as: Class 1\\n')\n",
    "            # return Class 1\n",
    "        elif appleScore >=75:\n",
    "            print (f'The batch has been qualified as: Class 2\\n')\n",
    "        elif appleScore >=73:\n",
    "            print (f'The batch has been qualified as: Class 3\\n')\n",
    "        else:\n",
    "            print (f'The batch has been rejected\\n')\n",
    "            \n",
    "            # return class    \n",
    "                \n",
    "        print (f'The total batch of {sampleBatch} apples consists of:\\n'\n",
    "        f'Healthy apples:    {appleScore}    ({healthyPercentage}%)\\n'\n",
    "        f'Blotched apples:   {blotchApple}    ({blotchPercentage}%)\\n'\n",
    "        f'Rotten apples:     {rotApple}    ({rotPercentage}%)\\n'\n",
    "        f'Scabbed apples:    {scabApple}    ({scabPercentage}%)\\n')    \n",
    "        \n",
    "        print('The total rejected percentage is:',rejectedPercentage,'%,' \n",
    "              ' which is a total amount of', rejectedApple, 'apples.')\n",
    "        # break    \n",
    "\n",
    "aqlTestScore()\n"
   ]
  }
 ],
 "metadata": {
  "kernelspec": {
   "display_name": "Python 3.10.7 ('env': venv)",
   "language": "python",
   "name": "python3"
  },
  "language_info": {
   "codemirror_mode": {
    "name": "ipython",
    "version": 3
   },
   "file_extension": ".py",
   "mimetype": "text/x-python",
   "name": "python",
   "nbconvert_exporter": "python",
   "pygments_lexer": "ipython3",
   "version": "3.10.7"
  },
  "orig_nbformat": 4,
  "vscode": {
   "interpreter": {
    "hash": "3806e804db5aa4a4c842d8541c0221916f65eb25aef94211593b7aec60c2bed4"
   }
  }
 },
 "nbformat": 4,
 "nbformat_minor": 2
}
